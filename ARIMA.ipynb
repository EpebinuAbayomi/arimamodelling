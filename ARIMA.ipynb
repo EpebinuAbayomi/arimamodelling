{
 "cells": [
  {
   "cell_type": "markdown",
   "id": "0d1aa157",
   "metadata": {},
   "source": [
    "# Extract data from yahoo finance"
   ]
  },
  {
   "cell_type": "code",
   "execution_count": 87,
   "id": "66b5dbcd",
   "metadata": {},
   "outputs": [],
   "source": [
    "import io\n",
    "import pandas as pd\n",
    "import numpy as np\n",
    "import matplotlib.pyplot as plt"
   ]
  },
  {
   "cell_type": "code",
   "execution_count": 88,
   "id": "cf0b828e",
   "metadata": {},
   "outputs": [
    {
     "name": "stdout",
     "output_type": "stream",
     "text": [
      "Requirement already satisfied: yfinance in /Users/epibinu/opt/anaconda3/lib/python3.8/site-packages (0.1.70)\n",
      "Requirement already satisfied: lxml>=4.5.1 in /Users/epibinu/opt/anaconda3/lib/python3.8/site-packages (from yfinance) (4.6.3)\n",
      "Requirement already satisfied: pandas>=0.24.0 in /Users/epibinu/opt/anaconda3/lib/python3.8/site-packages (from yfinance) (1.2.4)\n",
      "Requirement already satisfied: requests>=2.26 in /Users/epibinu/opt/anaconda3/lib/python3.8/site-packages (from yfinance) (2.27.1)\n",
      "Requirement already satisfied: numpy>=1.15 in /Users/epibinu/opt/anaconda3/lib/python3.8/site-packages (from yfinance) (1.20.1)\n",
      "Requirement already satisfied: multitasking>=0.0.7 in /Users/epibinu/opt/anaconda3/lib/python3.8/site-packages (from yfinance) (0.0.10)\n",
      "Requirement already satisfied: python-dateutil>=2.7.3 in /Users/epibinu/opt/anaconda3/lib/python3.8/site-packages (from pandas>=0.24.0->yfinance) (2.8.1)\n",
      "Requirement already satisfied: pytz>=2017.3 in /Users/epibinu/opt/anaconda3/lib/python3.8/site-packages (from pandas>=0.24.0->yfinance) (2021.1)\n",
      "Requirement already satisfied: six>=1.5 in /Users/epibinu/opt/anaconda3/lib/python3.8/site-packages (from python-dateutil>=2.7.3->pandas>=0.24.0->yfinance) (1.15.0)\n",
      "Requirement already satisfied: idna<4,>=2.5 in /Users/epibinu/opt/anaconda3/lib/python3.8/site-packages (from requests>=2.26->yfinance) (2.10)\n",
      "Requirement already satisfied: certifi>=2017.4.17 in /Users/epibinu/opt/anaconda3/lib/python3.8/site-packages (from requests>=2.26->yfinance) (2020.12.5)\n",
      "Requirement already satisfied: urllib3<1.27,>=1.21.1 in /Users/epibinu/opt/anaconda3/lib/python3.8/site-packages (from requests>=2.26->yfinance) (1.26.4)\n",
      "Requirement already satisfied: charset-normalizer~=2.0.0 in /Users/epibinu/opt/anaconda3/lib/python3.8/site-packages (from requests>=2.26->yfinance) (2.0.12)\n"
     ]
    }
   ],
   "source": [
    "!pip install yfinance"
   ]
  },
  {
   "cell_type": "code",
   "execution_count": 89,
   "id": "456566d2",
   "metadata": {},
   "outputs": [],
   "source": [
    "import yfinance as yf"
   ]
  },
  {
   "cell_type": "code",
   "execution_count": 90,
   "id": "2d54a78a",
   "metadata": {},
   "outputs": [],
   "source": [
    "msyf= yf.Ticker(\"MSFT\")"
   ]
  },
  {
   "cell_type": "code",
   "execution_count": 91,
   "id": "06d38a29",
   "metadata": {},
   "outputs": [
    {
     "name": "stdout",
     "output_type": "stream",
     "text": [
      "                  Open        High         Low       Close      Volume  \\\n",
      "Date                                                                     \n",
      "1986-03-13    0.055654    0.063838    0.055654    0.061109  1031788800   \n",
      "1986-03-14    0.061109    0.064384    0.061109    0.063292   308160000   \n",
      "1986-03-17    0.063292    0.064929    0.063292    0.064383   133171200   \n",
      "1986-03-18    0.064384    0.064929    0.062201    0.062746    67766400   \n",
      "1986-03-19    0.062746    0.063292    0.061109    0.061655    47894400   \n",
      "...                ...         ...         ...         ...         ...   \n",
      "2022-05-16  259.355934  265.202334  255.185655  260.892365    32550900   \n",
      "2022-05-17  265.491640  267.706483  261.850127  266.200012    28828800   \n",
      "2022-05-18  263.000000  263.600006  252.770004  254.080002    31356000   \n",
      "2022-05-19  253.899994  257.670013  251.880005  253.139999    32692300   \n",
      "2022-05-20  257.239990  258.540009  246.440002  252.559998    39169300   \n",
      "\n",
      "            Dividends  Stock Splits  \n",
      "Date                                 \n",
      "1986-03-13       0.00           0.0  \n",
      "1986-03-14       0.00           0.0  \n",
      "1986-03-17       0.00           0.0  \n",
      "1986-03-18       0.00           0.0  \n",
      "1986-03-19       0.00           0.0  \n",
      "...               ...           ...  \n",
      "2022-05-16       0.00           0.0  \n",
      "2022-05-17       0.00           0.0  \n",
      "2022-05-18       0.62           0.0  \n",
      "2022-05-19       0.00           0.0  \n",
      "2022-05-20       0.00           0.0  \n",
      "\n",
      "[9123 rows x 7 columns]\n"
     ]
    }
   ],
   "source": [
    "print(msyf.history(period=\"max\"))"
   ]
  },
  {
   "cell_type": "code",
   "execution_count": 92,
   "id": "8b8ed293",
   "metadata": {},
   "outputs": [
    {
     "name": "stdout",
     "output_type": "stream",
     "text": [
      "[*********************100%***********************]  1 of 1 completed\n"
     ]
    }
   ],
   "source": [
    "df = yf.download(\"MSFT\", start=\"2015-01-01\", end=\"2022-05-20\",group_by=\"ticker\") "
   ]
  },
  {
   "cell_type": "code",
   "execution_count": 93,
   "id": "f6d0e311",
   "metadata": {},
   "outputs": [
    {
     "data": {
      "text/html": [
       "<div>\n",
       "<style scoped>\n",
       "    .dataframe tbody tr th:only-of-type {\n",
       "        vertical-align: middle;\n",
       "    }\n",
       "\n",
       "    .dataframe tbody tr th {\n",
       "        vertical-align: top;\n",
       "    }\n",
       "\n",
       "    .dataframe thead th {\n",
       "        text-align: right;\n",
       "    }\n",
       "</style>\n",
       "<table border=\"1\" class=\"dataframe\">\n",
       "  <thead>\n",
       "    <tr style=\"text-align: right;\">\n",
       "      <th></th>\n",
       "      <th>Open</th>\n",
       "      <th>High</th>\n",
       "      <th>Low</th>\n",
       "      <th>Close</th>\n",
       "      <th>Adj Close</th>\n",
       "      <th>Volume</th>\n",
       "    </tr>\n",
       "    <tr>\n",
       "      <th>Date</th>\n",
       "      <th></th>\n",
       "      <th></th>\n",
       "      <th></th>\n",
       "      <th></th>\n",
       "      <th></th>\n",
       "      <th></th>\n",
       "    </tr>\n",
       "  </thead>\n",
       "  <tbody>\n",
       "    <tr>\n",
       "      <th>2014-12-31</th>\n",
       "      <td>46.730000</td>\n",
       "      <td>47.439999</td>\n",
       "      <td>46.450001</td>\n",
       "      <td>46.450001</td>\n",
       "      <td>40.741405</td>\n",
       "      <td>21552500</td>\n",
       "    </tr>\n",
       "    <tr>\n",
       "      <th>2015-01-02</th>\n",
       "      <td>46.660000</td>\n",
       "      <td>47.419998</td>\n",
       "      <td>46.540001</td>\n",
       "      <td>46.759998</td>\n",
       "      <td>41.013313</td>\n",
       "      <td>27913900</td>\n",
       "    </tr>\n",
       "    <tr>\n",
       "      <th>2015-01-05</th>\n",
       "      <td>46.369999</td>\n",
       "      <td>46.730000</td>\n",
       "      <td>46.250000</td>\n",
       "      <td>46.330002</td>\n",
       "      <td>40.636169</td>\n",
       "      <td>39673900</td>\n",
       "    </tr>\n",
       "    <tr>\n",
       "      <th>2015-01-06</th>\n",
       "      <td>46.380001</td>\n",
       "      <td>46.750000</td>\n",
       "      <td>45.540001</td>\n",
       "      <td>45.650002</td>\n",
       "      <td>40.039726</td>\n",
       "      <td>36447900</td>\n",
       "    </tr>\n",
       "    <tr>\n",
       "      <th>2015-01-07</th>\n",
       "      <td>45.980000</td>\n",
       "      <td>46.459999</td>\n",
       "      <td>45.490002</td>\n",
       "      <td>46.230000</td>\n",
       "      <td>40.548466</td>\n",
       "      <td>29114100</td>\n",
       "    </tr>\n",
       "    <tr>\n",
       "      <th>...</th>\n",
       "      <td>...</td>\n",
       "      <td>...</td>\n",
       "      <td>...</td>\n",
       "      <td>...</td>\n",
       "      <td>...</td>\n",
       "      <td>...</td>\n",
       "    </tr>\n",
       "    <tr>\n",
       "      <th>2022-05-13</th>\n",
       "      <td>257.350006</td>\n",
       "      <td>263.040009</td>\n",
       "      <td>255.350006</td>\n",
       "      <td>261.119995</td>\n",
       "      <td>260.513245</td>\n",
       "      <td>34893400</td>\n",
       "    </tr>\n",
       "    <tr>\n",
       "      <th>2022-05-16</th>\n",
       "      <td>259.959991</td>\n",
       "      <td>265.820007</td>\n",
       "      <td>255.779999</td>\n",
       "      <td>261.500000</td>\n",
       "      <td>260.892365</td>\n",
       "      <td>32550900</td>\n",
       "    </tr>\n",
       "    <tr>\n",
       "      <th>2022-05-17</th>\n",
       "      <td>266.109985</td>\n",
       "      <td>268.329987</td>\n",
       "      <td>262.459991</td>\n",
       "      <td>266.820007</td>\n",
       "      <td>266.200012</td>\n",
       "      <td>28828800</td>\n",
       "    </tr>\n",
       "    <tr>\n",
       "      <th>2022-05-18</th>\n",
       "      <td>263.000000</td>\n",
       "      <td>263.600006</td>\n",
       "      <td>252.770004</td>\n",
       "      <td>254.080002</td>\n",
       "      <td>254.080002</td>\n",
       "      <td>31356000</td>\n",
       "    </tr>\n",
       "    <tr>\n",
       "      <th>2022-05-19</th>\n",
       "      <td>253.899994</td>\n",
       "      <td>257.670013</td>\n",
       "      <td>251.880005</td>\n",
       "      <td>253.139999</td>\n",
       "      <td>253.139999</td>\n",
       "      <td>32692300</td>\n",
       "    </tr>\n",
       "  </tbody>\n",
       "</table>\n",
       "<p>1860 rows × 6 columns</p>\n",
       "</div>"
      ],
      "text/plain": [
       "                  Open        High         Low       Close   Adj Close  \\\n",
       "Date                                                                     \n",
       "2014-12-31   46.730000   47.439999   46.450001   46.450001   40.741405   \n",
       "2015-01-02   46.660000   47.419998   46.540001   46.759998   41.013313   \n",
       "2015-01-05   46.369999   46.730000   46.250000   46.330002   40.636169   \n",
       "2015-01-06   46.380001   46.750000   45.540001   45.650002   40.039726   \n",
       "2015-01-07   45.980000   46.459999   45.490002   46.230000   40.548466   \n",
       "...                ...         ...         ...         ...         ...   \n",
       "2022-05-13  257.350006  263.040009  255.350006  261.119995  260.513245   \n",
       "2022-05-16  259.959991  265.820007  255.779999  261.500000  260.892365   \n",
       "2022-05-17  266.109985  268.329987  262.459991  266.820007  266.200012   \n",
       "2022-05-18  263.000000  263.600006  252.770004  254.080002  254.080002   \n",
       "2022-05-19  253.899994  257.670013  251.880005  253.139999  253.139999   \n",
       "\n",
       "              Volume  \n",
       "Date                  \n",
       "2014-12-31  21552500  \n",
       "2015-01-02  27913900  \n",
       "2015-01-05  39673900  \n",
       "2015-01-06  36447900  \n",
       "2015-01-07  29114100  \n",
       "...              ...  \n",
       "2022-05-13  34893400  \n",
       "2022-05-16  32550900  \n",
       "2022-05-17  28828800  \n",
       "2022-05-18  31356000  \n",
       "2022-05-19  32692300  \n",
       "\n",
       "[1860 rows x 6 columns]"
      ]
     },
     "execution_count": 93,
     "metadata": {},
     "output_type": "execute_result"
    }
   ],
   "source": [
    "df"
   ]
  },
  {
   "cell_type": "code",
   "execution_count": 94,
   "id": "5e82ed18",
   "metadata": {},
   "outputs": [
    {
     "data": {
      "text/html": [
       "<div>\n",
       "<style scoped>\n",
       "    .dataframe tbody tr th:only-of-type {\n",
       "        vertical-align: middle;\n",
       "    }\n",
       "\n",
       "    .dataframe tbody tr th {\n",
       "        vertical-align: top;\n",
       "    }\n",
       "\n",
       "    .dataframe thead th {\n",
       "        text-align: right;\n",
       "    }\n",
       "</style>\n",
       "<table border=\"1\" class=\"dataframe\">\n",
       "  <thead>\n",
       "    <tr style=\"text-align: right;\">\n",
       "      <th></th>\n",
       "      <th>Open</th>\n",
       "      <th>Volume</th>\n",
       "    </tr>\n",
       "    <tr>\n",
       "      <th>Date</th>\n",
       "      <th></th>\n",
       "      <th></th>\n",
       "    </tr>\n",
       "  </thead>\n",
       "  <tbody>\n",
       "    <tr>\n",
       "      <th>2014-12-31</th>\n",
       "      <td>46.730000</td>\n",
       "      <td>21552500</td>\n",
       "    </tr>\n",
       "    <tr>\n",
       "      <th>2015-01-02</th>\n",
       "      <td>46.660000</td>\n",
       "      <td>27913900</td>\n",
       "    </tr>\n",
       "    <tr>\n",
       "      <th>2015-01-05</th>\n",
       "      <td>46.369999</td>\n",
       "      <td>39673900</td>\n",
       "    </tr>\n",
       "    <tr>\n",
       "      <th>2015-01-06</th>\n",
       "      <td>46.380001</td>\n",
       "      <td>36447900</td>\n",
       "    </tr>\n",
       "    <tr>\n",
       "      <th>2015-01-07</th>\n",
       "      <td>45.980000</td>\n",
       "      <td>29114100</td>\n",
       "    </tr>\n",
       "    <tr>\n",
       "      <th>...</th>\n",
       "      <td>...</td>\n",
       "      <td>...</td>\n",
       "    </tr>\n",
       "    <tr>\n",
       "      <th>2022-05-13</th>\n",
       "      <td>257.350006</td>\n",
       "      <td>34893400</td>\n",
       "    </tr>\n",
       "    <tr>\n",
       "      <th>2022-05-16</th>\n",
       "      <td>259.959991</td>\n",
       "      <td>32550900</td>\n",
       "    </tr>\n",
       "    <tr>\n",
       "      <th>2022-05-17</th>\n",
       "      <td>266.109985</td>\n",
       "      <td>28828800</td>\n",
       "    </tr>\n",
       "    <tr>\n",
       "      <th>2022-05-18</th>\n",
       "      <td>263.000000</td>\n",
       "      <td>31356000</td>\n",
       "    </tr>\n",
       "    <tr>\n",
       "      <th>2022-05-19</th>\n",
       "      <td>253.899994</td>\n",
       "      <td>32692300</td>\n",
       "    </tr>\n",
       "  </tbody>\n",
       "</table>\n",
       "<p>1860 rows × 2 columns</p>\n",
       "</div>"
      ],
      "text/plain": [
       "                  Open    Volume\n",
       "Date                            \n",
       "2014-12-31   46.730000  21552500\n",
       "2015-01-02   46.660000  27913900\n",
       "2015-01-05   46.369999  39673900\n",
       "2015-01-06   46.380001  36447900\n",
       "2015-01-07   45.980000  29114100\n",
       "...                ...       ...\n",
       "2022-05-13  257.350006  34893400\n",
       "2022-05-16  259.959991  32550900\n",
       "2022-05-17  266.109985  28828800\n",
       "2022-05-18  263.000000  31356000\n",
       "2022-05-19  253.899994  32692300\n",
       "\n",
       "[1860 rows x 2 columns]"
      ]
     },
     "execution_count": 94,
     "metadata": {},
     "output_type": "execute_result"
    }
   ],
   "source": [
    "msyf=df[['Open','Volume']]\n",
    "msyf"
   ]
  },
  {
   "cell_type": "code",
   "execution_count": 95,
   "id": "c44965db",
   "metadata": {},
   "outputs": [],
   "source": [
    "msyf.drop('Open', axis=1, inplace=True)"
   ]
  },
  {
   "cell_type": "code",
   "execution_count": 96,
   "id": "e9cb1bcd",
   "metadata": {},
   "outputs": [
    {
     "data": {
      "text/html": [
       "<div>\n",
       "<style scoped>\n",
       "    .dataframe tbody tr th:only-of-type {\n",
       "        vertical-align: middle;\n",
       "    }\n",
       "\n",
       "    .dataframe tbody tr th {\n",
       "        vertical-align: top;\n",
       "    }\n",
       "\n",
       "    .dataframe thead th {\n",
       "        text-align: right;\n",
       "    }\n",
       "</style>\n",
       "<table border=\"1\" class=\"dataframe\">\n",
       "  <thead>\n",
       "    <tr style=\"text-align: right;\">\n",
       "      <th></th>\n",
       "      <th>Volume</th>\n",
       "    </tr>\n",
       "    <tr>\n",
       "      <th>Date</th>\n",
       "      <th></th>\n",
       "    </tr>\n",
       "  </thead>\n",
       "  <tbody>\n",
       "    <tr>\n",
       "      <th>2014-12-31</th>\n",
       "      <td>21552500</td>\n",
       "    </tr>\n",
       "    <tr>\n",
       "      <th>2015-01-02</th>\n",
       "      <td>27913900</td>\n",
       "    </tr>\n",
       "    <tr>\n",
       "      <th>2015-01-05</th>\n",
       "      <td>39673900</td>\n",
       "    </tr>\n",
       "    <tr>\n",
       "      <th>2015-01-06</th>\n",
       "      <td>36447900</td>\n",
       "    </tr>\n",
       "    <tr>\n",
       "      <th>2015-01-07</th>\n",
       "      <td>29114100</td>\n",
       "    </tr>\n",
       "    <tr>\n",
       "      <th>...</th>\n",
       "      <td>...</td>\n",
       "    </tr>\n",
       "    <tr>\n",
       "      <th>2022-05-13</th>\n",
       "      <td>34893400</td>\n",
       "    </tr>\n",
       "    <tr>\n",
       "      <th>2022-05-16</th>\n",
       "      <td>32550900</td>\n",
       "    </tr>\n",
       "    <tr>\n",
       "      <th>2022-05-17</th>\n",
       "      <td>28828800</td>\n",
       "    </tr>\n",
       "    <tr>\n",
       "      <th>2022-05-18</th>\n",
       "      <td>31356000</td>\n",
       "    </tr>\n",
       "    <tr>\n",
       "      <th>2022-05-19</th>\n",
       "      <td>32692300</td>\n",
       "    </tr>\n",
       "  </tbody>\n",
       "</table>\n",
       "<p>1860 rows × 1 columns</p>\n",
       "</div>"
      ],
      "text/plain": [
       "              Volume\n",
       "Date                \n",
       "2014-12-31  21552500\n",
       "2015-01-02  27913900\n",
       "2015-01-05  39673900\n",
       "2015-01-06  36447900\n",
       "2015-01-07  29114100\n",
       "...              ...\n",
       "2022-05-13  34893400\n",
       "2022-05-16  32550900\n",
       "2022-05-17  28828800\n",
       "2022-05-18  31356000\n",
       "2022-05-19  32692300\n",
       "\n",
       "[1860 rows x 1 columns]"
      ]
     },
     "execution_count": 96,
     "metadata": {},
     "output_type": "execute_result"
    }
   ],
   "source": [
    "msyf"
   ]
  },
  {
   "cell_type": "markdown",
   "id": "83c73de7",
   "metadata": {},
   "source": [
    "Step 2. Resample the data, \n",
    "Aggregation of data,\n",
    "Daily finance to monthly finances,"
   ]
  },
  {
   "cell_type": "code",
   "execution_count": 134,
   "id": "08a914bc",
   "metadata": {},
   "outputs": [
    {
     "data": {
      "text/plain": [
       "Date\n",
       "2014-12-01     21552500\n",
       "2015-01-01    918966800\n",
       "2015-02-01    656509700\n",
       "2015-03-01    824335300\n",
       "2015-04-01    874535300\n",
       "Freq: MS, Name: Volume, dtype: int64"
      ]
     },
     "execution_count": 134,
     "metadata": {},
     "output_type": "execute_result"
    }
   ],
   "source": [
    "ts=msyf['Volume'].resample('MS').sum()\n",
    "ts.head()"
   ]
  },
  {
   "cell_type": "code",
   "execution_count": 135,
   "id": "9f1b2d10",
   "metadata": {},
   "outputs": [
    {
     "data": {
      "text/plain": [
       "<AxesSubplot:xlabel='Date'>"
      ]
     },
     "execution_count": 135,
     "metadata": {},
     "output_type": "execute_result"
    },
    {
     "data": {
      "image/png": "[encoded data removed]",
      "text/plain": [
       "<Figure size 432x288 with 1 Axes>"
      ]
     },
     "metadata": {
      "needs_background": "light"
     },
     "output_type": "display_data"
    }
   ],
   "source": [
    "ts.plot()"
   ]
  },
  {
   "cell_type": "markdown",
   "id": "11102c7d",
   "metadata": {},
   "source": [
    "Step 3. Stationarity check, \n",
    "this means that we decompose the observed series into ,\n",
    "trend, seasonal and residual"
   ]
  },
  {
   "cell_type": "code",
   "execution_count": 136,
   "id": "85241903",
   "metadata": {},
   "outputs": [],
   "source": [
    "import statsmodels.api as sm"
   ]
  },
  {
   "cell_type": "code",
   "execution_count": 137,
   "id": "5b42b87d",
   "metadata": {},
   "outputs": [
    {
     "data": {
      "image/png": "[encoded data removed]",
      "text/plain": [
       "<Figure size 432x288 with 4 Axes>"
      ]
     },
     "metadata": {
      "needs_background": "light"
     },
     "output_type": "display_data"
    }
   ],
   "source": [
    "decomposition = sm.tsa.seasonal_decompose(ts, model='additive')\n",
    "fig=decomposition.plot()\n",
    "plt.show()"
   ]
  },
  {
   "cell_type": "code",
   "execution_count": 138,
   "id": "84f733fe",
   "metadata": {},
   "outputs": [],
   "source": [
    "from statsmodels.tsa.stattools import adfuller"
   ]
  },
  {
   "cell_type": "code",
   "execution_count": 139,
   "id": "bf6ba8d0",
   "metadata": {},
   "outputs": [],
   "source": [
    "adftest=adfuller(ts)"
   ]
  },
  {
   "cell_type": "code",
   "execution_count": 140,
   "id": "65c2fff7",
   "metadata": {},
   "outputs": [
    {
     "name": "stdout",
     "output_type": "stream",
     "text": [
      "pvalue of adfuller test is: 1.474193053446204e-08\n"
     ]
    }
   ],
   "source": [
    "print('pvalue of adfuller test is:', adftest[1])"
   ]
  },
  {
   "cell_type": "markdown",
   "id": "28d06d7f",
   "metadata": {},
   "source": [
    "This means that the time series is stationary since the pvalue is less than 0.5"
   ]
  },
  {
   "cell_type": "markdown",
   "id": "5cc04e77",
   "metadata": {},
   "source": [
    "Step 4: train test split"
   ]
  },
  {
   "cell_type": "code",
   "execution_count": 141,
   "id": "192f632c",
   "metadata": {},
   "outputs": [
    {
     "data": {
      "text/plain": [
       "90"
      ]
     },
     "execution_count": 141,
     "metadata": {},
     "output_type": "execute_result"
    }
   ],
   "source": [
    "len(ts)"
   ]
  },
  {
   "cell_type": "code",
   "execution_count": 142,
   "id": "96226200",
   "metadata": {},
   "outputs": [],
   "source": [
    "train=ts[:68]\n",
    "test=ts[68:]"
   ]
  },
  {
   "cell_type": "markdown",
   "id": "9b1dbe98",
   "metadata": {},
   "source": [
    "# ARIMA Model building\n",
    "  ARIMA has three componests\n",
    "  1. AR - Autoregression\n",
    "  2. MA - Moving Average\n",
    "  3. I - Integrated (differencing)\n",
    "  P - Order of AR, P is gotten from PACF plot.\n",
    "  PACF is a plot that shows the correlation of a series with it lagged values.\n",
    "  \n",
    "  MA-It says that the output has more effect on the previous error term\n",
    "  \n",
    "  q - the order of MA, just the correlation between the past errors\n",
    "      from ACF plots.\n",
    "      \n",
    "  I - means integrated.\n",
    "  We difference the data to remove the trend and seasonality.\n",
    "  \n",
    "  d - is the order, i.e how many time s we difference the data\n",
    "      "
   ]
  },
  {
   "cell_type": "markdown",
   "id": "a70054d7",
   "metadata": {},
   "source": [
    "Step 5: Hyperparaters of the ARIMA model p d q"
   ]
  },
  {
   "cell_type": "code",
   "execution_count": 143,
   "id": "654375ee",
   "metadata": {},
   "outputs": [],
   "source": [
    "# Assume\n",
    "# p=2, d=0, q=2"
   ]
  },
  {
   "cell_type": "code",
   "execution_count": 144,
   "id": "d2f154d8",
   "metadata": {},
   "outputs": [],
   "source": [
    "# How to get p d q  we get 3 differents  method."
   ]
  },
  {
   "cell_type": "markdown",
   "id": "5c5d357c",
   "metadata": {},
   "source": [
    "Step 6: Build ARIMA model"
   ]
  },
  {
   "cell_type": "code",
   "execution_count": 145,
   "id": "82f8ae06",
   "metadata": {},
   "outputs": [],
   "source": [
    "import warnings\n",
    "warnings.filterwarnings('ignore')"
   ]
  },
  {
   "cell_type": "code",
   "execution_count": 146,
   "id": "82dcc25f",
   "metadata": {},
   "outputs": [],
   "source": [
    "from statsmodels.tsa.arima_model import ARIMA"
   ]
  },
  {
   "cell_type": "code",
   "execution_count": 147,
   "id": "5fc4d713",
   "metadata": {},
   "outputs": [],
   "source": [
    "model=ARIMA(train, order=(2,0,2)).fit()"
   ]
  },
  {
   "cell_type": "markdown",
   "id": "bb1200d2",
   "metadata": {},
   "source": [
    "Step 7: Predict the dataset"
   ]
  },
  {
   "cell_type": "code",
   "execution_count": 148,
   "id": "13cddd25",
   "metadata": {},
   "outputs": [
    {
     "data": {
      "text/plain": [
       "(68, 89)"
      ]
     },
     "execution_count": 148,
     "metadata": {},
     "output_type": "execute_result"
    }
   ],
   "source": [
    "len(train),len(ts)-1"
   ]
  },
  {
   "cell_type": "code",
   "execution_count": 149,
   "id": "6f63520c",
   "metadata": {},
   "outputs": [],
   "source": [
    "prediction = model.predict(start=len(train), end=len(ts)-1)"
   ]
  },
  {
   "cell_type": "code",
   "execution_count": 150,
   "id": "fbca835a",
   "metadata": {},
   "outputs": [
    {
     "data": {
      "text/plain": [
       "2020-08-01    6.998256e+08\n",
       "2020-09-01    6.713042e+08\n",
       "2020-10-01    6.427838e+08\n",
       "2020-11-01    6.307082e+08\n",
       "2020-12-01    6.287148e+08\n",
       "Freq: MS, dtype: float64"
      ]
     },
     "execution_count": 150,
     "metadata": {},
     "output_type": "execute_result"
    }
   ],
   "source": [
    "prediction.head()"
   ]
  },
  {
   "cell_type": "markdown",
   "id": "dfdc21df",
   "metadata": {},
   "source": [
    "Step 8: Model evaluation"
   ]
  },
  {
   "cell_type": "code",
   "execution_count": 151,
   "id": "662820b5",
   "metadata": {},
   "outputs": [],
   "source": [
    "from sklearn.metrics import mean_squared_error"
   ]
  },
  {
   "cell_type": "code",
   "execution_count": 152,
   "id": "9a3164ff",
   "metadata": {},
   "outputs": [
    {
     "data": {
      "text/plain": [
       "116604826.08610289"
      ]
     },
     "execution_count": 152,
     "metadata": {},
     "output_type": "execute_result"
    }
   ],
   "source": [
    "error = np.sqrt(mean_squared_error(test, prediction))\n",
    "error"
   ]
  },
  {
   "cell_type": "code",
   "execution_count": 153,
   "id": "a7e055bf",
   "metadata": {},
   "outputs": [
    {
     "data": {
      "text/plain": [
       "(606592909.0909091, 119322483.86760224)"
      ]
     },
     "execution_count": 153,
     "metadata": {},
     "output_type": "execute_result"
    }
   ],
   "source": [
    "test.mean(), np.sqrt(test.var())"
   ]
  },
  {
   "cell_type": "code",
   "execution_count": 154,
   "id": "e9e81c17",
   "metadata": {},
   "outputs": [
    {
     "data": {
      "text/plain": [
       "<AxesSubplot:xlabel='Date'>"
      ]
     },
     "execution_count": 154,
     "metadata": {},
     "output_type": "execute_result"
    },
    {
     "data": {
      "image/png": "[encoded data removed]",
      "text/plain": [
       "<Figure size 720x432 with 1 Axes>"
      ]
     },
     "metadata": {
      "needs_background": "light"
     },
     "output_type": "display_data"
    }
   ],
   "source": [
    "train.plot(legend=True, label='Train',figsize=(10,6))\n",
    "test.plot(legend=True, label='Test')\n",
    "prediction.plot(legend=True, label='PredictionOfARIMA')"
   ]
  },
  {
   "cell_type": "markdown",
   "id": "9bfbabc5",
   "metadata": {},
   "source": [
    "Step 9: Predict the future"
   ]
  },
  {
   "cell_type": "code",
   "execution_count": 156,
   "id": "20c5d6d9",
   "metadata": {},
   "outputs": [],
   "source": [
    "final_model=ARIMA(ts, order=(2,0,2)).fit()"
   ]
  },
  {
   "cell_type": "code",
   "execution_count": 157,
   "id": "10142ad4",
   "metadata": {},
   "outputs": [],
   "source": [
    "prediction_final=final_model.predict(len(ts), len(ts)+7)"
   ]
  },
  {
   "cell_type": "code",
   "execution_count": 169,
   "id": "5ec290fb",
   "metadata": {},
   "outputs": [
    {
     "data": {
      "text/plain": [
       "<AxesSubplot:xlabel='Date'>"
      ]
     },
     "execution_count": 169,
     "metadata": {},
     "output_type": "execute_result"
    },
    {
     "data": {
      "image/png": "[encoded data removed]",
      "text/plain": [
       "<Figure size 720x432 with 1 Axes>"
      ]
     },
     "metadata": {
      "needs_background": "light"
     },
     "output_type": "display_data"
    }
   ],
   "source": [
    "ts.plot(legend=True, label='Train', figsize=(10,6))\n",
    "prediction_final.plot(legend=True,label='Final_prediction for the next 7 months')"
   ]
  },
  {
   "cell_type": "markdown",
   "id": "9bf2508a",
   "metadata": {},
   "source": [
    "Details on step 5:\n",
    "\n",
    "to get our parameters for pdq, there are three methods to do this \n",
    "\n",
    "1. ACF PACF plot\n",
    "2. Auto Arima function\n",
    "3. For loop.\n",
    "\n",
    "the method i used in my modelling is the for loop method.\n",
    "\n"
   ]
  },
  {
   "cell_type": "code",
   "execution_count": 159,
   "id": "3a05fe59",
   "metadata": {},
   "outputs": [],
   "source": [
    "import itertools"
   ]
  },
  {
   "cell_type": "code",
   "execution_count": 160,
   "id": "62193f3e",
   "metadata": {},
   "outputs": [],
   "source": [
    "p=range(0,8)\n",
    "q=range(0,8)\n",
    "d=range(0,2)"
   ]
  },
  {
   "cell_type": "code",
   "execution_count": 161,
   "id": "83019c60",
   "metadata": {},
   "outputs": [],
   "source": [
    "pdq_combination=list(itertools.product(p,d,q))"
   ]
  },
  {
   "cell_type": "code",
   "execution_count": 162,
   "id": "5a959768",
   "metadata": {},
   "outputs": [
    {
     "data": {
      "text/plain": [
       "[(0, 0, 0),\n",
       " (0, 0, 1),\n",
       " (0, 0, 2),\n",
       " (0, 0, 3),\n",
       " (0, 0, 4),\n",
       " (0, 0, 5),\n",
       " (0, 0, 6),\n",
       " (0, 0, 7),\n",
       " (0, 1, 0),\n",
       " (0, 1, 1),\n",
       " (0, 1, 2),\n",
       " (0, 1, 3),\n",
       " (0, 1, 4),\n",
       " (0, 1, 5),\n",
       " (0, 1, 6),\n",
       " (0, 1, 7),\n",
       " (1, 0, 0),\n",
       " (1, 0, 1),\n",
       " (1, 0, 2),\n",
       " (1, 0, 3),\n",
       " (1, 0, 4),\n",
       " (1, 0, 5),\n",
       " (1, 0, 6),\n",
       " (1, 0, 7),\n",
       " (1, 1, 0),\n",
       " (1, 1, 1),\n",
       " (1, 1, 2),\n",
       " (1, 1, 3),\n",
       " (1, 1, 4),\n",
       " (1, 1, 5),\n",
       " (1, 1, 6),\n",
       " (1, 1, 7),\n",
       " (2, 0, 0),\n",
       " (2, 0, 1),\n",
       " (2, 0, 2),\n",
       " (2, 0, 3),\n",
       " (2, 0, 4),\n",
       " (2, 0, 5),\n",
       " (2, 0, 6),\n",
       " (2, 0, 7),\n",
       " (2, 1, 0),\n",
       " (2, 1, 1),\n",
       " (2, 1, 2),\n",
       " (2, 1, 3),\n",
       " (2, 1, 4),\n",
       " (2, 1, 5),\n",
       " (2, 1, 6),\n",
       " (2, 1, 7),\n",
       " (3, 0, 0),\n",
       " (3, 0, 1),\n",
       " (3, 0, 2),\n",
       " (3, 0, 3),\n",
       " (3, 0, 4),\n",
       " (3, 0, 5),\n",
       " (3, 0, 6),\n",
       " (3, 0, 7),\n",
       " (3, 1, 0),\n",
       " (3, 1, 1),\n",
       " (3, 1, 2),\n",
       " (3, 1, 3),\n",
       " (3, 1, 4),\n",
       " (3, 1, 5),\n",
       " (3, 1, 6),\n",
       " (3, 1, 7),\n",
       " (4, 0, 0),\n",
       " (4, 0, 1),\n",
       " (4, 0, 2),\n",
       " (4, 0, 3),\n",
       " (4, 0, 4),\n",
       " (4, 0, 5),\n",
       " (4, 0, 6),\n",
       " (4, 0, 7),\n",
       " (4, 1, 0),\n",
       " (4, 1, 1),\n",
       " (4, 1, 2),\n",
       " (4, 1, 3),\n",
       " (4, 1, 4),\n",
       " (4, 1, 5),\n",
       " (4, 1, 6),\n",
       " (4, 1, 7),\n",
       " (5, 0, 0),\n",
       " (5, 0, 1),\n",
       " (5, 0, 2),\n",
       " (5, 0, 3),\n",
       " (5, 0, 4),\n",
       " (5, 0, 5),\n",
       " (5, 0, 6),\n",
       " (5, 0, 7),\n",
       " (5, 1, 0),\n",
       " (5, 1, 1),\n",
       " (5, 1, 2),\n",
       " (5, 1, 3),\n",
       " (5, 1, 4),\n",
       " (5, 1, 5),\n",
       " (5, 1, 6),\n",
       " (5, 1, 7),\n",
       " (6, 0, 0),\n",
       " (6, 0, 1),\n",
       " (6, 0, 2),\n",
       " (6, 0, 3),\n",
       " (6, 0, 4),\n",
       " (6, 0, 5),\n",
       " (6, 0, 6),\n",
       " (6, 0, 7),\n",
       " (6, 1, 0),\n",
       " (6, 1, 1),\n",
       " (6, 1, 2),\n",
       " (6, 1, 3),\n",
       " (6, 1, 4),\n",
       " (6, 1, 5),\n",
       " (6, 1, 6),\n",
       " (6, 1, 7),\n",
       " (7, 0, 0),\n",
       " (7, 0, 1),\n",
       " (7, 0, 2),\n",
       " (7, 0, 3),\n",
       " (7, 0, 4),\n",
       " (7, 0, 5),\n",
       " (7, 0, 6),\n",
       " (7, 0, 7),\n",
       " (7, 1, 0),\n",
       " (7, 1, 1),\n",
       " (7, 1, 2),\n",
       " (7, 1, 3),\n",
       " (7, 1, 4),\n",
       " (7, 1, 5),\n",
       " (7, 1, 6),\n",
       " (7, 1, 7)]"
      ]
     },
     "execution_count": 162,
     "metadata": {},
     "output_type": "execute_result"
    }
   ],
   "source": [
    "pdq_combination"
   ]
  },
  {
   "cell_type": "code",
   "execution_count": 163,
   "id": "85eb7a54",
   "metadata": {},
   "outputs": [
    {
     "data": {
      "text/plain": [
       "128"
      ]
     },
     "execution_count": 163,
     "metadata": {},
     "output_type": "execute_result"
    }
   ],
   "source": [
    "len(pdq_combination)"
   ]
  },
  {
   "cell_type": "code",
   "execution_count": 164,
   "id": "6b9171a0",
   "metadata": {},
   "outputs": [],
   "source": [
    "rmse=[]\n",
    "order1=[]"
   ]
  },
  {
   "cell_type": "code",
   "execution_count": 165,
   "id": "b644bfd0",
   "metadata": {},
   "outputs": [],
   "source": [
    "for pdq in pdq_combination:\n",
    "    try:\n",
    "        model=ARIMA(train, order=pdq).fit()\n",
    "        prediction=model.predict(start=len(train),end=len(ts)-1)\n",
    "        error=np.sqrt(mean_squared_error(test,prediction))\n",
    "        order1.append(pdq)\n",
    "        rmse.append(error)\n",
    "        \n",
    "        \n",
    "    except:\n",
    "        continue"
   ]
  },
  {
   "cell_type": "code",
   "execution_count": 166,
   "id": "5b297952",
   "metadata": {},
   "outputs": [],
   "source": [
    "results=pd.DataFrame(index=order1,data=rmse, columns=['RMSE'])"
   ]
  },
  {
   "cell_type": "code",
   "execution_count": 167,
   "id": "0b4d156b",
   "metadata": {},
   "outputs": [],
   "source": [
    "results.to_csv('ARIMA_result.csv')"
   ]
  },
  {
   "cell_type": "code",
   "execution_count": 168,
   "id": "0fb9959c",
   "metadata": {},
   "outputs": [
    {
     "data": {
      "text/html": [
       "<div>\n",
       "<style scoped>\n",
       "    .dataframe tbody tr th:only-of-type {\n",
       "        vertical-align: middle;\n",
       "    }\n",
       "\n",
       "    .dataframe tbody tr th {\n",
       "        vertical-align: top;\n",
       "    }\n",
       "\n",
       "    .dataframe thead th {\n",
       "        text-align: right;\n",
       "    }\n",
       "</style>\n",
       "<table border=\"1\" class=\"dataframe\">\n",
       "  <thead>\n",
       "    <tr style=\"text-align: right;\">\n",
       "      <th></th>\n",
       "      <th>RMSE</th>\n",
       "    </tr>\n",
       "  </thead>\n",
       "  <tbody>\n",
       "    <tr>\n",
       "      <th>(0, 0, 1)</th>\n",
       "      <td>1.185223e+08</td>\n",
       "    </tr>\n",
       "    <tr>\n",
       "      <th>(0, 0, 2)</th>\n",
       "      <td>1.174882e+08</td>\n",
       "    </tr>\n",
       "    <tr>\n",
       "      <th>(0, 0, 3)</th>\n",
       "      <td>1.162328e+08</td>\n",
       "    </tr>\n",
       "    <tr>\n",
       "      <th>(0, 0, 4)</th>\n",
       "      <td>1.170604e+08</td>\n",
       "    </tr>\n",
       "    <tr>\n",
       "      <th>(0, 0, 5)</th>\n",
       "      <td>1.252638e+08</td>\n",
       "    </tr>\n",
       "    <tr>\n",
       "      <th>...</th>\n",
       "      <td>...</td>\n",
       "    </tr>\n",
       "    <tr>\n",
       "      <th>(7, 1, 0)</th>\n",
       "      <td>6.009293e+08</td>\n",
       "    </tr>\n",
       "    <tr>\n",
       "      <th>(7, 1, 1)</th>\n",
       "      <td>6.014498e+08</td>\n",
       "    </tr>\n",
       "    <tr>\n",
       "      <th>(7, 1, 3)</th>\n",
       "      <td>6.197686e+08</td>\n",
       "    </tr>\n",
       "    <tr>\n",
       "      <th>(7, 1, 5)</th>\n",
       "      <td>6.049162e+08</td>\n",
       "    </tr>\n",
       "    <tr>\n",
       "      <th>(7, 1, 7)</th>\n",
       "      <td>6.026380e+08</td>\n",
       "    </tr>\n",
       "  </tbody>\n",
       "</table>\n",
       "<p>103 rows × 1 columns</p>\n",
       "</div>"
      ],
      "text/plain": [
       "                   RMSE\n",
       "(0, 0, 1)  1.185223e+08\n",
       "(0, 0, 2)  1.174882e+08\n",
       "(0, 0, 3)  1.162328e+08\n",
       "(0, 0, 4)  1.170604e+08\n",
       "(0, 0, 5)  1.252638e+08\n",
       "...                 ...\n",
       "(7, 1, 0)  6.009293e+08\n",
       "(7, 1, 1)  6.014498e+08\n",
       "(7, 1, 3)  6.197686e+08\n",
       "(7, 1, 5)  6.049162e+08\n",
       "(7, 1, 7)  6.026380e+08\n",
       "\n",
       "[103 rows x 1 columns]"
      ]
     },
     "execution_count": 168,
     "metadata": {},
     "output_type": "execute_result"
    }
   ],
   "source": [
    "results"
   ]
  },
  {
   "cell_type": "code",
   "execution_count": null,
   "id": "4d0d70f5",
   "metadata": {},
   "outputs": [],
   "source": []
  },
  {
   "cell_type": "code",
   "execution_count": null,
   "id": "95e58cae",
   "metadata": {},
   "outputs": [],
   "source": []
  }
 ],
 "metadata": {
  "kernelspec": {
   "display_name": "Python 3",
   "language": "python",
   "name": "python3"
  },
  "language_info": {
   "codemirror_mode": {
    "name": "ipython",
    "version": 3
   },
   "file_extension": ".py",
   "mimetype": "text/x-python",
   "name": "python",
   "nbconvert_exporter": "python",
   "pygments_lexer": "ipython3",
   "version": "3.8.8"
  }
 },
 "nbformat": 4,
 "nbformat_minor": 5
}
